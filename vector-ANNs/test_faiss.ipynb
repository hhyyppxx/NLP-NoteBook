{
 "cells": [
  {
   "cell_type": "code",
   "execution_count": 2,
   "metadata": {},
   "outputs": [],
   "source": [
    "import faiss\n",
    "import numpy as np"
   ]
  },
  {
   "cell_type": "code",
   "execution_count": 3,
   "metadata": {},
   "outputs": [
    {
     "data": {
      "text/plain": [
       "array([[0.2626469 , 0.9363691 , 0.42274356, ..., 0.2653731 , 0.40244615,\n",
       "        0.07298969],\n",
       "       [0.70706797, 0.54336745, 0.34653956, ..., 0.97106266, 0.6576707 ,\n",
       "        0.7363804 ],\n",
       "       [0.9151803 , 0.66485876, 0.25176746, ..., 0.47495523, 0.89320093,\n",
       "        0.329352  ],\n",
       "       ...,\n",
       "       [0.71154606, 0.443787  , 0.7170536 , ..., 0.10094635, 0.904397  ,\n",
       "        0.17412332],\n",
       "       [0.75890756, 0.4135146 , 0.96747035, ..., 0.6949929 , 0.8579171 ,\n",
       "        0.7442335 ],\n",
       "       [0.26577964, 0.19333361, 0.23556261, ..., 0.58578897, 0.64808625,\n",
       "        0.9509837 ]], dtype=float32)"
      ]
     },
     "execution_count": 3,
     "metadata": {},
     "output_type": "execute_result"
    }
   ],
   "source": [
    "doc = np.random.random(size=[100000, 128]).astype('float32')\n",
    "doc\n"
   ]
  },
  {
   "cell_type": "code",
   "execution_count": null,
   "metadata": {},
   "outputs": [],
   "source": [
    "query"
   ]
  }
 ],
 "metadata": {
  "interpreter": {
   "hash": "26bedbbf7d3b1d1db4353a563f84b022bf82813572ef35561dd07b6d65f39a29"
  },
  "kernelspec": {
   "display_name": "Python 3.6.12 ('py36')",
   "language": "python",
   "name": "python3"
  },
  "language_info": {
   "codemirror_mode": {
    "name": "ipython",
    "version": 3
   },
   "file_extension": ".py",
   "mimetype": "text/x-python",
   "name": "python",
   "nbconvert_exporter": "python",
   "pygments_lexer": "ipython3",
   "version": "3.6.12"
  },
  "orig_nbformat": 4
 },
 "nbformat": 4,
 "nbformat_minor": 2
}
